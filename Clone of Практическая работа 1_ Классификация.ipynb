{
 "cells":[
  {
   "cell_type":"code",
   "source":[
    "import os\n",
    "import numpy as np\n",
    "import pandas as pd"
   ],
   "execution_count":1,
   "outputs":[
    
   ],
   "metadata":{
    "datalore":{
     "type":"CODE",
     "hide_input_from_viewers":false,
     "hide_output_from_viewers":false
    }
   }
  },
  {
   "cell_type":"markdown",
   "source":[
    "## Считываем набор данных\n",
    "\n",
    "В прикладных задачах машинного обучения очень важен процесс извлечения признаков (feature extraction), в ходе которого данные интерпретируются в информативные признаки. Также этот процесс может называться проектирование признаков (feature engineering), это весьма трудоемкая и творческая задача. В рамках работы мы опустим эту часть и поспользуемся предобработанными данными. "
   ],
   "attachments":{
    
   },
   "metadata":{
    "datalore":{
     "type":"MD",
     "hide_input_from_viewers":false,
     "hide_output_from_viewers":false
    }
   }
  },
  {
   "cell_type":"code",
   "source":[
    "def read_data(path, filename):\n",
    "    return pd.read_csv(os.path.join(path, filename))\n",
    "\n",
    "df = read_data('\/data\/notebook_files', 'train.csv')\n",
    "df.head()"
   ],
   "execution_count":99,
   "outputs":[
    {
     "data":{
      "text\/html":[
       "<div>\n",
       "<style scoped>\n",
       "    .dataframe tbody tr th:only-of-type {\n",
       "        vertical-align: middle;\n",
       "    }\n",
       "\n",
       "    .dataframe tbody tr th {\n",
       "        vertical-align: top;\n",
       "    }\n",
       "\n",
       "    .dataframe thead th {\n",
       "        text-align: right;\n",
       "    }\n",
       "<\/style>\n",
       "<table border=\"1\" class=\"dataframe\">\n",
       "  <thead>\n",
       "    <tr style=\"text-align: right;\">\n",
       "      <th><\/th>\n",
       "      <th>tBodyAcc-mean()-X<\/th>\n",
       "      <th>tBodyAcc-mean()-Y<\/th>\n",
       "      <th>tBodyAcc-mean()-Z<\/th>\n",
       "      <th>tBodyAcc-std()-X<\/th>\n",
       "      <th>tBodyAcc-std()-Y<\/th>\n",
       "      <th>tBodyAcc-std()-Z<\/th>\n",
       "      <th>tBodyAcc-mad()-X<\/th>\n",
       "      <th>tBodyAcc-mad()-Y<\/th>\n",
       "      <th>tBodyAcc-mad()-Z<\/th>\n",
       "      <th>tBodyAcc-max()-X<\/th>\n",
       "      <th>...<\/th>\n",
       "      <th>fBodyBodyGyroJerkMag-kurtosis()<\/th>\n",
       "      <th>angle(tBodyAccMean,gravity)<\/th>\n",
       "      <th>angle(tBodyAccJerkMean),gravityMean)<\/th>\n",
       "      <th>angle(tBodyGyroMean,gravityMean)<\/th>\n",
       "      <th>angle(tBodyGyroJerkMean,gravityMean)<\/th>\n",
       "      <th>angle(X,gravityMean)<\/th>\n",
       "      <th>angle(Y,gravityMean)<\/th>\n",
       "      <th>angle(Z,gravityMean)<\/th>\n",
       "      <th>subject<\/th>\n",
       "      <th>Activity<\/th>\n",
       "    <\/tr>\n",
       "  <\/thead>\n",
       "  <tbody>\n",
       "    <tr>\n",
       "      <th>0<\/th>\n",
       "      <td>0.288585<\/td>\n",
       "      <td>-0.020294<\/td>\n",
       "      <td>-0.132905<\/td>\n",
       "      <td>-0.995279<\/td>\n",
       "      <td>-0.983111<\/td>\n",
       "      <td>-0.913526<\/td>\n",
       "      <td>-0.995112<\/td>\n",
       "      <td>-0.983185<\/td>\n",
       "      <td>-0.923527<\/td>\n",
       "      <td>-0.934724<\/td>\n",
       "      <td>...<\/td>\n",
       "      <td>-0.710304<\/td>\n",
       "      <td>-0.112754<\/td>\n",
       "      <td>0.030400<\/td>\n",
       "      <td>-0.464761<\/td>\n",
       "      <td>-0.018446<\/td>\n",
       "      <td>-0.841247<\/td>\n",
       "      <td>0.179941<\/td>\n",
       "      <td>-0.058627<\/td>\n",
       "      <td>1<\/td>\n",
       "      <td>STANDING<\/td>\n",
       "    <\/tr>\n",
       "    <tr>\n",
       "      <th>1<\/th>\n",
       "      <td>0.278419<\/td>\n",
       "      <td>-0.016411<\/td>\n",
       "      <td>-0.123520<\/td>\n",
       "      <td>-0.998245<\/td>\n",
       "      <td>-0.975300<\/td>\n",
       "      <td>-0.960322<\/td>\n",
       "      <td>-0.998807<\/td>\n",
       "      <td>-0.974914<\/td>\n",
       "      <td>-0.957686<\/td>\n",
       "      <td>-0.943068<\/td>\n",
       "      <td>...<\/td>\n",
       "      <td>-0.861499<\/td>\n",
       "      <td>0.053477<\/td>\n",
       "      <td>-0.007435<\/td>\n",
       "      <td>-0.732626<\/td>\n",
       "      <td>0.703511<\/td>\n",
       "      <td>-0.844788<\/td>\n",
       "      <td>0.180289<\/td>\n",
       "      <td>-0.054317<\/td>\n",
       "      <td>1<\/td>\n",
       "      <td>STANDING<\/td>\n",
       "    <\/tr>\n",
       "    <tr>\n",
       "      <th>2<\/th>\n",
       "      <td>0.279653<\/td>\n",
       "      <td>-0.019467<\/td>\n",
       "      <td>-0.113462<\/td>\n",
       "      <td>-0.995380<\/td>\n",
       "      <td>-0.967187<\/td>\n",
       "      <td>-0.978944<\/td>\n",
       "      <td>-0.996520<\/td>\n",
       "      <td>-0.963668<\/td>\n",
       "      <td>-0.977469<\/td>\n",
       "      <td>-0.938692<\/td>\n",
       "      <td>...<\/td>\n",
       "      <td>-0.760104<\/td>\n",
       "      <td>-0.118559<\/td>\n",
       "      <td>0.177899<\/td>\n",
       "      <td>0.100699<\/td>\n",
       "      <td>0.808529<\/td>\n",
       "      <td>-0.848933<\/td>\n",
       "      <td>0.180637<\/td>\n",
       "      <td>-0.049118<\/td>\n",
       "      <td>1<\/td>\n",
       "      <td>STANDING<\/td>\n",
       "    <\/tr>\n",
       "    <tr>\n",
       "      <th>3<\/th>\n",
       "      <td>0.279174<\/td>\n",
       "      <td>-0.026201<\/td>\n",
       "      <td>-0.123283<\/td>\n",
       "      <td>-0.996091<\/td>\n",
       "      <td>-0.983403<\/td>\n",
       "      <td>-0.990675<\/td>\n",
       "      <td>-0.997099<\/td>\n",
       "      <td>-0.982750<\/td>\n",
       "      <td>-0.989302<\/td>\n",
       "      <td>-0.938692<\/td>\n",
       "      <td>...<\/td>\n",
       "      <td>-0.482845<\/td>\n",
       "      <td>-0.036788<\/td>\n",
       "      <td>-0.012892<\/td>\n",
       "      <td>0.640011<\/td>\n",
       "      <td>-0.485366<\/td>\n",
       "      <td>-0.848649<\/td>\n",
       "      <td>0.181935<\/td>\n",
       "      <td>-0.047663<\/td>\n",
       "      <td>1<\/td>\n",
       "      <td>STANDING<\/td>\n",
       "    <\/tr>\n",
       "    <tr>\n",
       "      <th>4<\/th>\n",
       "      <td>0.276629<\/td>\n",
       "      <td>-0.016570<\/td>\n",
       "      <td>-0.115362<\/td>\n",
       "      <td>-0.998139<\/td>\n",
       "      <td>-0.980817<\/td>\n",
       "      <td>-0.990482<\/td>\n",
       "      <td>-0.998321<\/td>\n",
       "      <td>-0.979672<\/td>\n",
       "      <td>-0.990441<\/td>\n",
       "      <td>-0.942469<\/td>\n",
       "      <td>...<\/td>\n",
       "      <td>-0.699205<\/td>\n",
       "      <td>0.123320<\/td>\n",
       "      <td>0.122542<\/td>\n",
       "      <td>0.693578<\/td>\n",
       "      <td>-0.615971<\/td>\n",
       "      <td>-0.847865<\/td>\n",
       "      <td>0.185151<\/td>\n",
       "      <td>-0.043892<\/td>\n",
       "      <td>1<\/td>\n",
       "      <td>STANDING<\/td>\n",
       "    <\/tr>\n",
       "  <\/tbody>\n",
       "<\/table>\n",
       "<p>5 rows × 563 columns<\/p>\n",
       "<\/div>"
      ]
     },
     "metadata":{
      
     },
     "output_type":"display_data"
    }
   ],
   "metadata":{
    "datalore":{
     "type":"CODE",
     "hide_input_from_viewers":false,
     "hide_output_from_viewers":false
    }
   }
  },
  {
   "cell_type":"markdown",
   "source":[
    "Теперь, загрузим полный набор данных и сохранить его под следующими четырьмя переменными:\n",
    "\n",
    "* `train_X`: признаки, используемые для обучения модели\n",
    "* `train_y`: метки, используемые для обучения модели\n",
    "* `test_X`: признаки, используемые для проверки модели\n",
    "* `test_y`: метки, используемые для проверки модели"
   ],
   "attachments":{
    
   },
   "metadata":{
    "datalore":{
     "type":"MD",
     "hide_input_from_viewers":false,
     "hide_output_from_viewers":false
    }
   }
  },
  {
   "cell_type":"code",
   "source":[
    "def load_dataset(label_dict):\n",
    "    train_X = read_data('\/data\/notebook_files', 'train.csv').values[:,:-2]\n",
    "    train_y = read_data('\/data\/notebook_files', 'train.csv')['Activity']\n",
    "    train_y = train_y.map(label_dict).values\n",
    "    test_X = read_data('\/data\/notebook_files', 'test.csv').values[:,:-2]\n",
    "    test_y = read_data('\/data\/notebook_files', 'test.csv')\n",
    "    test_y = test_y['Activity'].map(label_dict).values\n",
    "    return (train_X, train_y, test_X, test_y)\n",
    "label_dict = {'WALKING':0, 'WALKING_UPSTAIRS':1, 'WALKING_DOWNSTAIRS':2, 'SITTING':3, 'STANDING':4, 'LAYING':5}\n",
    "train_X, train_y, test_X, test_y = load_dataset(label_dict)"
   ],
   "execution_count":100,
   "outputs":[
    
   ],
   "metadata":{
    "datalore":{
     "type":"CODE",
     "hide_input_from_viewers":false,
     "hide_output_from_viewers":false
    }
   }
  },
  {
   "cell_type":"markdown",
   "source":[
    "## Выбор модели 1 (KNeighborsClassifier)\n",
    "Импортируйте выбранную вами модель из библиотеки `sklearn` и инициализируйте её в объект `model`:"
   ],
   "attachments":{
    
   },
   "metadata":{
    "datalore":{
     "type":"MD",
     "hide_input_from_viewers":false,
     "hide_output_from_viewers":false
    }
   }
  },
  {
   "cell_type":"code",
   "source":[
    "from sklearn.neighbors import KNeighborsClassifier\n",
    "\n",
    "model1 = KNeighborsClassifier(n_neighbors = 3)    "
   ],
   "execution_count":101,
   "outputs":[
    
   ],
   "metadata":{
    "datalore":{
     "type":"CODE",
     "hide_input_from_viewers":false,
     "hide_output_from_viewers":false
    }
   }
  },
  {
   "cell_type":"markdown",
   "source":[
    "## Для подбора наилучшего гиперпараметра(n_neighbors) воспользуемся GridSearchCV\n",
    "Для нашей модели мы укажем диапазон значений для «n_neighbors», чтобы увидеть, какое значение лучше всего подходит для нашей модели. Для этого мы создадим словарь, установив в качестве ключа «n_neighbors» и используя numpy для создания массива значений от 1 до 24."
   ],
   "attachments":{
    
   },
   "metadata":{
    "datalore":{
     "type":"MD",
     "hide_input_from_viewers":false,
     "hide_output_from_viewers":false
    }
   }
  },
  {
   "cell_type":"code",
   "source":[
    "from sklearn.model_selection import GridSearchCV  \n",
    "param_grid = {'n_neighbors' : np.arange(1, 25)} # create a dictionary of all values we want to test for n_neighbors\n",
    "knn_gscv = GridSearchCV(model1, param_grid, cv = 5) #use gridsearch to test all values for n_neighbors, cv = кол-во разрезов выборки\n",
    "knn_gscv.fit(train_X, train_y)  #fit model to data\n",
    "\n",
    "#check top performing n_neighbors value\n",
    "knn_gscv.best_params_"
   ],
   "execution_count":102,
   "outputs":[
    {
     "data":{
      "text\/plain":[
       "{'n_neighbors': 16}"
      ]
     },
     "metadata":{
      
     },
     "output_type":"display_data"
    }
   ],
   "metadata":{
    "datalore":{
     "type":"CODE",
     "hide_input_from_viewers":false,
     "hide_output_from_viewers":false
    }
   }
  },
  {
   "cell_type":"markdown",
   "source":[
    "### Мы выяснили, что наилучший параметр для n_neighbors это 16. Используем эту информацию для обучения модели и получения метрик"
   ],
   "attachments":{
    
   },
   "metadata":{
    "datalore":{
     "type":"MD",
     "hide_input_from_viewers":false,
     "hide_output_from_viewers":false
    }
   }
  },
  {
   "cell_type":"markdown",
   "source":[
    "Опишите вашу мотивацию по выбору модели.\n",
    "\n",
    "Алгоритм может быть применим к выборкам с большим количеством атрибутов, как в нашем случае, поэтому я счел этот алгоритм подходящим. К тому же, этот алгоритм довольно прост в реализации."
   ],
   "attachments":{
    
   },
   "metadata":{
    "datalore":{
     "type":"MD",
     "hide_input_from_viewers":false,
     "hide_output_from_viewers":false
    }
   }
  },
  {
   "cell_type":"markdown",
   "source":[
    "## Обучение модели\n",
    "\n",
    "Обучите модель, используя признаки из обучающего набора (`train_X`) и метки в качестве базовой истины (`train_y`)."
   ],
   "attachments":{
    
   },
   "metadata":{
    "datalore":{
     "type":"MD",
     "hide_input_from_viewers":false,
     "hide_output_from_viewers":false
    }
   }
  },
  {
   "cell_type":"code",
   "source":[
    "model1_best = KNeighborsClassifier(n_neighbors = 16 )\n",
    "model1_best.fit(train_X, train_y)"
   ],
   "execution_count":103,
   "outputs":[
    {
     "data":{
      "text\/plain":[
       "KNeighborsClassifier(n_neighbors=16)"
      ]
     },
     "metadata":{
      
     },
     "output_type":"display_data"
    }
   ],
   "metadata":{
    "datalore":{
     "type":"CODE",
     "hide_input_from_viewers":false,
     "hide_output_from_viewers":false
    }
   }
  },
  {
   "cell_type":"markdown",
   "source":[
    "## Оценка модели\n",
    "Используйте обученную модель для прогнозирования активности движения, используя признаки из тестового набора (`test_X`). Прогнозы сохраните в списке `yhat`."
   ],
   "attachments":{
    
   },
   "metadata":{
    "datalore":{
     "type":"MD",
     "hide_input_from_viewers":false,
     "hide_output_from_viewers":false
    }
   }
  },
  {
   "cell_type":"code",
   "source":[
    "yhat = model1_best.predict(test_X)\n",
    "yhat"
   ],
   "execution_count":104,
   "outputs":[
    {
     "data":{
      "text\/html":[
       
      ]
     },
     "metadata":{
      
     },
     "output_type":"display_data"
    }
   ],
   "metadata":{
    "datalore":{
     "type":"CODE",
     "hide_input_from_viewers":false,
     "hide_output_from_viewers":false
    }
   }
  },
  {
   "cell_type":"markdown",
   "source":[
    "### Выведите отчет о классификации, сравнив предсказания (`yhat`) с базовой истиной (`test_y`).\n",
    "\n",
    "### В чем разница между показателями `precision` и `recall`? Что такое показатель `F1`?\n",
    "\n",
    "\n",
    "Ответ:\n",
    "\n",
    "Precision можно интерпретировать как долю объектов, названных классификатором положительными и при этом действительно являющимися положительными, а recall показывает, какую долю объектов положительного класса из всех объектов положительного класса нашел алгоритм.\n",
    "\n",
    "Recall демонстрирует способность алгоритма обнаруживать данный класс, а precision — способность отличать этот класс от других классов.\n",
    "\n",
    "F-мера (в общем случае $\\ F_\\beta$) — среднее гармоническое precision и recall. \n",
    "F-мера достигает максимума при полноте и точности, равными единице, и близка к нулю, если один из аргументов близок к нулю.\n",
    "F1 = 2(recall * precision)\/(recall + precision)"
   ],
   "attachments":{
    
   },
   "metadata":{
    "datalore":{
     "type":"MD",
     "hide_input_from_viewers":false,
     "hide_output_from_viewers":false
    }
   }
  },
  {
   "cell_type":"code",
   "source":[
    "from sklearn.metrics import classification_report\n",
    "target_names = ['Walking', 'Walking Upstairs', 'Walking Downstairs', 'Sitting', 'Standing', 'Laying']\n",
    "\n",
    "print(classification_report(test_y, yhat, target_names=target_names))"
   ],
   "execution_count":105,
   "outputs":[
    {
     "name":"stdout",
     "text":[
      "                    precision    recall  f1-score   support\n",
      "\n",
      "           Walking       0.84      0.99      0.91       496\n",
      "  Walking Upstairs       0.89      0.90      0.90       471\n",
      "Walking Downstairs       0.96      0.77      0.85       420\n",
      "           Sitting       0.92      0.82      0.86       491\n",
      "          Standing       0.85      0.93      0.89       532\n",
      "            Laying       1.00      1.00      1.00       537\n",
      "\n",
      "          accuracy                           0.91      2947\n",
      "         macro avg       0.91      0.90      0.90      2947\n",
      "      weighted avg       0.91      0.91      0.90      2947\n",
      "\n"
     ],
     "output_type":"stream"
    }
   ],
   "metadata":{
    "datalore":{
     "type":"CODE",
     "hide_input_from_viewers":false,
     "hide_output_from_viewers":false
    }
   }
  },
  {
   "cell_type":"markdown",
   "source":[
    "## Вывод KNeighborsClassifier\n",
    " Показатели precision и recall показывают, что алгоритм довольно точно предсказал действия человека. Изначально я не знал, какой гиперпараметр использовать в качестве n_neighbors. После поиска возможных решений в интернете я узнал о GridSearchCV. Оказалось, что лучшие метрики достигаются при n_neighbors = 16."
   ],
   "attachments":{
    
   },
   "metadata":{
    "datalore":{
     "type":"MD",
     "hide_input_from_viewers":false,
     "hide_output_from_viewers":false
    }
   }
  },
  {
   "cell_type":"markdown",
   "source":[
    "## Выбор модели 2 (GaussianNB)\n",
    "Импортируйте выбранную вами модель из библиотеки `sklearn` и инициализируйте её в объект `model`:"
   ],
   "attachments":{
    
   },
   "metadata":{
    "datalore":{
     "type":"MD",
     "hide_input_from_viewers":false,
     "hide_output_from_viewers":false
    }
   }
  },
  {
   "cell_type":"code",
   "source":[
    "from sklearn.naive_bayes import GaussianNB\n",
    "\n",
    "\n",
    "model2 = GaussianNB()\n",
    "model2.fit(train_X, train_y)\n",
    "\n",
    "yhat = model2.predict(test_X)\n",
    "yhat"
   ],
   "execution_count":106,
   "outputs":[
    {
     "data":{
      "text\/html":[
       
      ]
     },
     "metadata":{
      
     },
     "output_type":"display_data"
    }
   ],
   "metadata":{
    "datalore":{
     "type":"CODE",
     "hide_input_from_viewers":false,
     "hide_output_from_viewers":false
    }
   }
  },
  {
   "cell_type":"code",
   "source":[
    "print(classification_report(test_y, yhat, target_names=target_names))"
   ],
   "execution_count":107,
   "outputs":[
    {
     "name":"stdout",
     "text":[
      "                    precision    recall  f1-score   support\n",
      "\n",
      "           Walking       0.82      0.84      0.83       496\n",
      "  Walking Upstairs       0.76      0.96      0.84       471\n",
      "Walking Downstairs       0.83      0.61      0.70       420\n",
      "           Sitting       0.58      0.75      0.65       491\n",
      "          Standing       0.80      0.86      0.83       532\n",
      "            Laying       0.96      0.60      0.74       537\n",
      "\n",
      "          accuracy                           0.77      2947\n",
      "         macro avg       0.79      0.77      0.77      2947\n",
      "      weighted avg       0.79      0.77      0.77      2947\n",
      "\n"
     ],
     "output_type":"stream"
    }
   ],
   "metadata":{
    "datalore":{
     "type":"CODE",
     "hide_input_from_viewers":false,
     "hide_output_from_viewers":false
    }
   }
  },
  {
   "cell_type":"markdown",
   "source":[
    "## Вывод GaussianNB\n",
    " Показатели precision и recall показывают, что алгоритм не очень точно предсказал действия человека. Более того, для разных действий показатели могут сильно розниться(например, precision для Laying 0.96, в то время как для Sitting всего 0.58, что является довольно низким показателем). F1 мера говорит о том, что этот алгоритм классификации не является оптимальным для нашей задачи. Возможно, это связано с тем, что действия человека не являются полностью статистически независимыми, что является важным аспектом для Наивного Байесовского алгоритма.  "
   ],
   "attachments":{
    
   },
   "metadata":{
    "datalore":{
     "type":"MD",
     "hide_input_from_viewers":false,
     "hide_output_from_viewers":false
    }
   }
  },
  {
   "cell_type":"markdown",
   "source":[
    "### Можно рассмотреть матрицу неточностей для понимания того, какие именно классы чаще всего путал наш алгоритм между собой."
   ],
   "attachments":{
    
   },
   "metadata":{
    "datalore":{
     "type":"MD",
     "hide_input_from_viewers":false,
     "hide_output_from_viewers":false
    }
   }
  },
  {
   "cell_type":"code",
   "source":[
    "print(confusion_matrix(test_y,yhat))"
   ],
   "execution_count":108,
   "outputs":[
    {
     "name":"stdout",
     "text":[
      "[[416  38  42   0   0   0]\n",
      " [  9 451  11   0   0   0]\n",
      " [ 80  83 257   0   0   0]\n",
      " [  0   7   0 368 111   5]\n",
      " [  0  15   0  54 455   8]\n",
      " [  0   3   0 211   0 323]]\n"
     ],
     "output_type":"stream"
    }
   ],
   "metadata":{
    "datalore":{
     "type":"CODE",
     "hide_input_from_viewers":false,
     "hide_output_from_viewers":false
    }
   }
  },
  {
   "cell_type":"markdown",
   "source":[
    "Как мы видим, низкая точность показателя sitting связана с тем, что алгоритм часто путает данный класс с классом Laying( 211 раз алгоритм оказался неточным) "
   ],
   "attachments":{
    
   },
   "metadata":{
    "datalore":{
     "type":"MD",
     "hide_input_from_viewers":false,
     "hide_output_from_viewers":false
    }
   }
  },
  {
   "cell_type":"markdown",
   "source":[
    "## Выбор модели 3 (LogisticRegression)"
   ],
   "attachments":{
    
   },
   "metadata":{
    "datalore":{
     "type":"MD",
     "hide_input_from_viewers":false,
     "hide_output_from_viewers":false
    }
   }
  },
  {
   "cell_type":"markdown",
   "source":[
    "## Опробуем алгоритм \"из коробки\""
   ],
   "attachments":{
    
   },
   "metadata":{
    "datalore":{
     "type":"MD",
     "hide_input_from_viewers":false,
     "hide_output_from_viewers":false
    }
   }
  },
  {
   "cell_type":"code",
   "source":[
    "from sklearn.linear_model import LogisticRegression\n",
    "model3 = LogisticRegression()\n",
    "model3.fit(train_X, train_y)\n",
    "\n",
    "yhat = model3.predict(test_X)\n",
    "yhat"
   ],
   "execution_count":109,
   "outputs":[
    {
     "name":"stderr",
     "text":[
      "\/opt\/python\/envs\/default\/lib\/python3.8\/site-packages\/sklearn\/linear_model\/_logistic.py:763: ConvergenceWarning: lbfgs failed to converge (status=1):\n",
      "STOP: TOTAL NO. of ITERATIONS REACHED LIMIT.\n",
      "\n",
      "Increase the number of iterations (max_iter) or scale the data as shown in:\n",
      "    https:\/\/scikit-learn.org\/stable\/modules\/preprocessing.html\n",
      "Please also refer to the documentation for alternative solver options:\n",
      "    https:\/\/scikit-learn.org\/stable\/modules\/linear_model.html#logistic-regression\n",
      "  n_iter_i = _check_optimize_result(\n"
     ],
     "output_type":"stream"
    },
    {
     "data":{
      "text\/html":[
       
      ]
     },
     "metadata":{
      
     },
     "output_type":"display_data"
    }
   ],
   "metadata":{
    "datalore":{
     "type":"CODE",
     "hide_input_from_viewers":false,
     "hide_output_from_viewers":false
    }
   }
  },
  {
   "cell_type":"code",
   "source":[
    "\n",
    "print(classification_report(test_y, yhat, target_names=target_names))"
   ],
   "execution_count":110,
   "outputs":[
    {
     "name":"stdout",
     "text":[
      "                    precision    recall  f1-score   support\n",
      "\n",
      "           Walking       0.95      0.99      0.97       496\n",
      "  Walking Upstairs       0.96      0.94      0.95       471\n",
      "Walking Downstairs       0.99      0.96      0.97       420\n",
      "           Sitting       0.96      0.88      0.92       491\n",
      "          Standing       0.90      0.97      0.93       532\n",
      "            Laying       1.00      1.00      1.00       537\n",
      "\n",
      "          accuracy                           0.96      2947\n",
      "         macro avg       0.96      0.96      0.96      2947\n",
      "      weighted avg       0.96      0.96      0.96      2947\n",
      "\n"
     ],
     "output_type":"stream"
    }
   ],
   "metadata":{
    "datalore":{
     "type":"CODE",
     "hide_input_from_viewers":false,
     "hide_output_from_viewers":false
    }
   }
  },
  {
   "cell_type":"markdown",
   "source":[
    "## Теперь попробуем поиграться с гиперпараметрами"
   ],
   "attachments":{
    
   },
   "metadata":{
    "datalore":{
     "type":"MD",
     "hide_input_from_viewers":false,
     "hide_output_from_viewers":false
    }
   }
  },
  {
   "cell_type":"code",
   "source":[
    "from sklearn.linear_model import LogisticRegression\n",
    "model3_best = LogisticRegression(\n",
    "    C=1.0, #сила регуляризации. Меньшие значения указывают на более сильную регуляризацию\n",
    "    class_weight=None, #определяет веса, относящиеся к каждому классу. Когда нет, все классы имеют единицу веса.\n",
    "    dual=False, # не совсем понял за что отвечает, поэтому использовал как в default\n",
    "    fit_intercept=True, #следует ли добавить константу (также известную как смещение или перехват) к функции принятия решения.\n",
    "    intercept_scaling=1, #синтетический вес признака\n",
    "    l1_ratio=None, #Useful only when the solver ‘liblinear’ is used\n",
    "    max_iter=150, #максимальное количество итераций\n",
    "    multi_class='ovr', \n",
    "    n_jobs=None, #целое число или None (по умолчанию), определяющее количество используемых параллельных процессов. None обычно означает использование одного ядра, а -1 означает использование всех доступных ядер.\n",
    "    penalty='l2',  #определяет, есть ли регуляризация и какой подход использовать\n",
    "    random_state=0, #какой генератор псевдослучайных чисел использовать.\n",
    "    solver='liblinear', # сделал как в default, какой решатель использовать\n",
    "    tol=0.0001, #  определяет допуск для остановки процедуры, как default установил\n",
    "    verbose=0, #определяющее степень детализации для решателей \n",
    "   \n",
    ")\n",
    "model3_best.fit(train_X, train_y)\n",
    "\n",
    "yhat = model3_best.predict(test_X)\n",
    "yhat"
   ],
   "execution_count":75,
   "outputs":[
    {
     "data":{
      "text\/html":[
       
      ]
     },
     "metadata":{
      
     },
     "output_type":"display_data"
    }
   ],
   "metadata":{
    "datalore":{
     "type":"CODE",
     "hide_input_from_viewers":false,
     "hide_output_from_viewers":false
    }
   }
  },
  {
   "cell_type":"code",
   "source":[
    "print(classification_report(test_y, yhat, target_names=target_names))"
   ],
   "execution_count":111,
   "outputs":[
    {
     "name":"stdout",
     "text":[
      "                    precision    recall  f1-score   support\n",
      "\n",
      "           Walking       0.95      0.99      0.97       496\n",
      "  Walking Upstairs       0.96      0.94      0.95       471\n",
      "Walking Downstairs       0.99      0.96      0.97       420\n",
      "           Sitting       0.96      0.88      0.92       491\n",
      "          Standing       0.90      0.97      0.93       532\n",
      "            Laying       1.00      1.00      1.00       537\n",
      "\n",
      "          accuracy                           0.96      2947\n",
      "         macro avg       0.96      0.96      0.96      2947\n",
      "      weighted avg       0.96      0.96      0.96      2947\n",
      "\n"
     ],
     "output_type":"stream"
    }
   ],
   "metadata":{
    "datalore":{
     "type":"CODE",
     "hide_input_from_viewers":false,
     "hide_output_from_viewers":false
    }
   }
  },
  {
   "cell_type":"markdown",
   "source":[
    "## Вывод LogisticRegression\n",
    " Показатели precision и recall показывают, что алгоритм точно предсказал действия человека. F1 мера для всех действий человека близка к единице, что свидетельствует об оптимальности выбора алгоритма для нашей задачи. Возможно, это связано с тем, что алгоритм дает на выходе 1 или 0, избегая при этом неопределенности. Обычно логистическая регрессия используется для предсказания одного из двух вариантов(например принятие решения о выдаче кредита клиенту), однако в нашей задаче с множеством вариантов предсказания алгоритм отработал довольно точно.\n",
    "\n",
    "При изменении гиперпараметров изменения были несущественны, но немного удалось улучшить показатели метрик"
   ],
   "attachments":{
    
   },
   "metadata":{
    "datalore":{
     "type":"MD",
     "hide_input_from_viewers":false,
     "hide_output_from_viewers":false
    }
   }
  },
  {
   "cell_type":"markdown",
   "source":[
    "# Выбор модели 4 (SVM)"
   ],
   "attachments":{
    
   },
   "metadata":{
    "datalore":{
     "type":"MD",
     "hide_input_from_viewers":false,
     "hide_output_from_viewers":false
    }
   }
  },
  {
   "cell_type":"markdown",
   "source":[
    "### Использование линейного ядра"
   ],
   "attachments":{
    
   },
   "metadata":{
    "datalore":{
     "type":"MD",
     "hide_input_from_viewers":false,
     "hide_output_from_viewers":false
    }
   }
  },
  {
   "cell_type":"code",
   "source":[
    "from sklearn import svm\n",
    "model4 = svm.SVC(kernel='linear') # сначала попробуем линейное ядро, подразумевая что наши данные линейно разделимы\n",
    "model4.fit(train_X, train_y)\n",
    "\n",
    "yhat = model4.predict(test_X)\n",
    "yhat"
   ],
   "execution_count":112,
   "outputs":[
    {
     "data":{
      "text\/html":[
       
      ]
     },
     "metadata":{
      
     },
     "output_type":"display_data"
    }
   ],
   "metadata":{
    "datalore":{
     "type":"CODE",
     "hide_input_from_viewers":false,
     "hide_output_from_viewers":false
    }
   }
  },
  {
   "cell_type":"code",
   "source":[
    "print(confusion_matrix(test_y,yhat)) # матрица неточностей\n",
    "print(\" \")  # пропустим место для красоты\n",
    "print(classification_report(test_y, yhat, target_names=target_names))"
   ],
   "execution_count":113,
   "outputs":[
    {
     "name":"stdout",
     "text":[
      "[[492   1   3   0   0   0]\n",
      " [ 18 451   2   0   0   0]\n",
      " [  4   6 410   0   0   0]\n",
      " [  0   2   0 435  54   0]\n",
      " [  0   0   0  16 516   0]\n",
      " [  0   0   0   0   0 537]]\n",
      " \n",
      "                    precision    recall  f1-score   support\n",
      "\n",
      "           Walking       0.96      0.99      0.97       496\n",
      "  Walking Upstairs       0.98      0.96      0.97       471\n",
      "Walking Downstairs       0.99      0.98      0.98       420\n",
      "           Sitting       0.96      0.89      0.92       491\n",
      "          Standing       0.91      0.97      0.94       532\n",
      "            Laying       1.00      1.00      1.00       537\n",
      "\n",
      "          accuracy                           0.96      2947\n",
      "         macro avg       0.97      0.96      0.96      2947\n",
      "      weighted avg       0.96      0.96      0.96      2947\n",
      "\n"
     ],
     "output_type":"stream"
    }
   ],
   "metadata":{
    "datalore":{
     "type":"CODE",
     "hide_input_from_viewers":false,
     "hide_output_from_viewers":false
    }
   }
  },
  {
   "cell_type":"markdown",
   "source":[
    "### Использование полиномиального ядра\n",
    "Возможно, в нашем случае нелинейно разделимые данные,тогда  прямая линия не может использоваться в качестве границы принятия решения. Попробуем полиномиальное ядро"
   ],
   "attachments":{
    
   },
   "metadata":{
    "datalore":{
     "type":"MD",
     "hide_input_from_viewers":false,
     "hide_output_from_viewers":false
    }
   }
  },
  {
   "cell_type":"code",
   "source":[
    "\n",
    "model4_polynom_degree_3 = svm.SVC(kernel='poly', degree= 3 )\n",
    "model4_polynom_degree_3.fit(train_X, train_y)\n",
    "\n",
    "yhat = model4_polynom_degree_3.predict(test_X)\n",
    "yhat"
   ],
   "execution_count":114,
   "outputs":[
    {
     "data":{
      "text\/html":[
       
      ]
     },
     "metadata":{
      
     },
     "output_type":"display_data"
    }
   ],
   "metadata":{
    "datalore":{
     "type":"CODE",
     "hide_input_from_viewers":false,
     "hide_output_from_viewers":false
    }
   }
  },
  {
   "cell_type":"code",
   "source":[
    "print(confusion_matrix(test_y,yhat)) # матрица неточностей\n",
    "print(\" \")  # пропустим место для красоты\n",
    "print(classification_report(test_y, yhat, target_names=target_names))"
   ],
   "execution_count":115,
   "outputs":[
    {
     "name":"stdout",
     "text":[
      "[[489   4   3   0   0   0]\n",
      " [ 23 447   1   0   0   0]\n",
      " [  7  18 395   0   0   0]\n",
      " [  0   2   0 439  50   0]\n",
      " [  0   0   0  16 516   0]\n",
      " [  0   0   0   0   0 537]]\n",
      " \n",
      "                    precision    recall  f1-score   support\n",
      "\n",
      "           Walking       0.94      0.99      0.96       496\n",
      "  Walking Upstairs       0.95      0.95      0.95       471\n",
      "Walking Downstairs       0.99      0.94      0.96       420\n",
      "           Sitting       0.96      0.89      0.93       491\n",
      "          Standing       0.91      0.97      0.94       532\n",
      "            Laying       1.00      1.00      1.00       537\n",
      "\n",
      "          accuracy                           0.96      2947\n",
      "         macro avg       0.96      0.96      0.96      2947\n",
      "      weighted avg       0.96      0.96      0.96      2947\n",
      "\n"
     ],
     "output_type":"stream"
    }
   ],
   "metadata":{
    "datalore":{
     "type":"CODE",
     "hide_input_from_viewers":false,
     "hide_output_from_viewers":false
    }
   }
  },
  {
   "cell_type":"markdown",
   "source":[
    "### Попробуем повысить значение degree до 8"
   ],
   "attachments":{
    
   },
   "metadata":{
    "datalore":{
     "type":"MD",
     "hide_input_from_viewers":false,
     "hide_output_from_viewers":false
    }
   }
  },
  {
   "cell_type":"code",
   "source":[
    "model4_polynom_degree_8 = svm.SVC(kernel='poly', degree= 8 )\n",
    "model4_polynom_degree_8.fit(train_X, train_y)\n",
    "\n",
    "yhat = model4_polynom_degree_8.predict(test_X)\n",
    "yhat"
   ],
   "execution_count":116,
   "outputs":[
    {
     "data":{
      "text\/html":[
       
      ]
     },
     "metadata":{
      
     },
     "output_type":"display_data"
    }
   ],
   "metadata":{
    "datalore":{
     "type":"CODE",
     "hide_input_from_viewers":false,
     "hide_output_from_viewers":false
    }
   }
  },
  {
   "cell_type":"code",
   "source":[
    "print(confusion_matrix(test_y,yhat)) # матрица неточностей\n",
    "print(\" \")  # пропустим место для красоты\n",
    "print(classification_report(test_y, yhat, target_names=target_names))"
   ],
   "execution_count":93,
   "outputs":[
    {
     "name":"stdout",
     "text":[
      "[[479   5  12   0   0   0]\n",
      " [ 26 441   4   0   0   0]\n",
      " [  7  17 396   0   0   0]\n",
      " [  0   2   0 449  39   1]\n",
      " [  0   0   0   8 524   0]\n",
      " [  0   0   0   0   0 537]]\n",
      " \n",
      "                    precision    recall  f1-score   support\n",
      "\n",
      "           Walking       0.94      0.97      0.95       496\n",
      "  Walking Upstairs       0.95      0.94      0.94       471\n",
      "Walking Downstairs       0.96      0.94      0.95       420\n",
      "           Sitting       0.98      0.91      0.95       491\n",
      "          Standing       0.93      0.98      0.96       532\n",
      "            Laying       1.00      1.00      1.00       537\n",
      "\n",
      "          accuracy                           0.96      2947\n",
      "         macro avg       0.96      0.96      0.96      2947\n",
      "      weighted avg       0.96      0.96      0.96      2947\n",
      "\n"
     ],
     "output_type":"stream"
    }
   ],
   "metadata":{
    "datalore":{
     "type":"CODE",
     "hide_input_from_viewers":false,
     "hide_output_from_viewers":false
    }
   }
  },
  {
   "cell_type":"markdown",
   "source":[
    "## Ядро Гаусса"
   ],
   "attachments":{
    
   },
   "metadata":{
    "datalore":{
     "type":"MD",
     "hide_input_from_viewers":false,
     "hide_output_from_viewers":false
    }
   }
  },
  {
   "cell_type":"code",
   "source":[
    "model4_rbf = svm.SVC(kernel='rbf')\n",
    "model4_rbf.fit(train_X, train_y)\n",
    "\n",
    "yhat = model4_rbf.predict(test_X)\n",
    "yhat"
   ],
   "execution_count":117,
   "outputs":[
    {
     "data":{
      "text\/html":[
       
      ]
     },
     "metadata":{
      
     },
     "output_type":"display_data"
    }
   ],
   "metadata":{
    "datalore":{
     "type":"CODE",
     "hide_input_from_viewers":false,
     "hide_output_from_viewers":false
    }
   }
  },
  {
   "cell_type":"code",
   "source":[
    "print(confusion_matrix(test_y,yhat)) # матрица неточностей\n",
    "print(\" \")  # пропустим место для красоты\n",
    "print(classification_report(test_y, yhat, target_names=target_names))"
   ],
   "execution_count":118,
   "outputs":[
    {
     "name":"stdout",
     "text":[
      "[[488   5   3   0   0   0]\n",
      " [ 20 451   0   0   0   0]\n",
      " [ 10  26 384   0   0   0]\n",
      " [  0   2   0 438  51   0]\n",
      " [  0   0   0  29 503   0]\n",
      " [  0   0   0   0   0 537]]\n",
      " \n",
      "                    precision    recall  f1-score   support\n",
      "\n",
      "           Walking       0.94      0.98      0.96       496\n",
      "  Walking Upstairs       0.93      0.96      0.94       471\n",
      "Walking Downstairs       0.99      0.91      0.95       420\n",
      "           Sitting       0.94      0.89      0.91       491\n",
      "          Standing       0.91      0.95      0.93       532\n",
      "            Laying       1.00      1.00      1.00       537\n",
      "\n",
      "          accuracy                           0.95      2947\n",
      "         macro avg       0.95      0.95      0.95      2947\n",
      "      weighted avg       0.95      0.95      0.95      2947\n",
      "\n"
     ],
     "output_type":"stream"
    }
   ],
   "metadata":{
    "datalore":{
     "type":"CODE",
     "hide_input_from_viewers":false,
     "hide_output_from_viewers":false
    }
   }
  },
  {
   "cell_type":"markdown",
   "source":[
    "## Сигмоидное ядро"
   ],
   "attachments":{
    
   },
   "metadata":{
    "datalore":{
     "type":"MD",
     "hide_input_from_viewers":false,
     "hide_output_from_viewers":false
    }
   }
  },
  {
   "cell_type":"code",
   "source":[
    "model4_sigmoid = svm.SVC(kernel='sigmoid')\n",
    "model4_sigmoid.fit(train_X, train_y)\n",
    "\n",
    "yhat = model4_sigmoid.predict(test_X)\n",
    "yhat"
   ],
   "execution_count":119,
   "outputs":[
    {
     "data":{
      "text\/html":[
       
      ]
     },
     "metadata":{
      
     },
     "output_type":"display_data"
    }
   ],
   "metadata":{
    "datalore":{
     "type":"CODE",
     "hide_input_from_viewers":false,
     "hide_output_from_viewers":false
    }
   }
  },
  {
   "cell_type":"code",
   "source":[
    "print(confusion_matrix(test_y,yhat)) # матрица неточностей\n",
    "print(\" \")  # пропустим место для красоты\n",
    "print(classification_report(test_y, yhat, target_names=target_names))"
   ],
   "execution_count":121,
   "outputs":[
    {
     "name":"stdout",
     "text":[
      "[[475   0  20   0   1   0]\n",
      " [  9 455   3   0   4   0]\n",
      " [ 81  36 303   0   0   0]\n",
      " [  4   1   0 263 223   0]\n",
      " [  4   0   0  25 503   0]\n",
      " [  0   0   0   0   0 537]]\n",
      " \n",
      "                    precision    recall  f1-score   support\n",
      "\n",
      "           Walking       0.83      0.96      0.89       496\n",
      "  Walking Upstairs       0.92      0.97      0.94       471\n",
      "Walking Downstairs       0.93      0.72      0.81       420\n",
      "           Sitting       0.91      0.54      0.68       491\n",
      "          Standing       0.69      0.95      0.80       532\n",
      "            Laying       1.00      1.00      1.00       537\n",
      "\n",
      "          accuracy                           0.86      2947\n",
      "         macro avg       0.88      0.85      0.85      2947\n",
      "      weighted avg       0.88      0.86      0.85      2947\n",
      "\n"
     ],
     "output_type":"stream"
    }
   ],
   "metadata":{
    "datalore":{
     "type":"CODE",
     "hide_input_from_viewers":false,
     "hide_output_from_viewers":false
    }
   }
  },
  {
   "cell_type":"markdown",
   "source":[
    "## Вывод SVM\n",
    " Если мы сравним производительность разных типов ядер, мы ясно увидим, что сигмоидное ядро работает хуже всего(accuracy = 0.86). Это связано с тем, что сигмоидная функция возвращает два значения, 0 и 1, поэтому она больше подходит для задач двоичной классификации. Однако в нашем случае у нас было 6 выходных классов.\n",
    "\n",
    " SVM с линейным ядром отработал лучше всего, значит наши данные линейно разделимы. SVM с полиномиальным ядром отработали примерно одинаково хорошо (рассматривал степени 3 и 8), ядро Гаусса отработало чуть хуже.\n",
    " \n",
    " В целом, показатели precision и recall показывают, что алгоритм точно предсказал действия человека."
   ],
   "attachments":{
    
   },
   "metadata":{
    "datalore":{
     "type":"MD",
     "hide_input_from_viewers":false,
     "hide_output_from_viewers":false
    }
   }
  },
  {
   "cell_type":"markdown",
   "source":[
    "# Вывод по лабораторной работе:\n",
    "Я ознакомился с различными методами классификации в рамках машинного обучения.\n",
    " Были рассмотрены и сравнены между собой по показателям (precision, recall, f1-score, accuracy) следующие методы: \n",
    "•\tKneighborsClassifier\n",
    "•\tGaussianNB\n",
    "•\tLogisticRegression\n",
    "•\tSVM\n",
    "Наиболее точным классификатаром в нашем случае оказался SVM и LogisticRegression, наименее - GaussianNB\n",
    "Также я получил первый опыт по работе с Jupiter Notebook."
   ],
   "attachments":{
    
   },
   "metadata":{
    "datalore":{
     "type":"MD",
     "hide_input_from_viewers":false,
     "hide_output_from_viewers":false
    }
   }
  }
 ],
 "metadata":{
  "datalore":{
   "version":1,
   "computation_mode":"JUPYTER",
   "packages":[
    
   ]
  }
 },
 "nbformat":4,
 "nbformat_minor":4
}